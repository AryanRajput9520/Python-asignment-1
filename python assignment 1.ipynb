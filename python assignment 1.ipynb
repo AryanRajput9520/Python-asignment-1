{
 "cells": [
  {
   "cell_type": "markdown",
   "id": "dfd003eb-461f-4e52-9c6c-17144a45998b",
   "metadata": {},
   "source": [
    "# 1. In the below elements which of them are values or an expression? eg:- values can be integer or string and expressions will be mathematical operators.\n",
    "*\n",
    "'hello'\n",
    "-87.8\n",
    "-\n",
    "/\n",
    "+\n",
    "6"
   ]
  },
  {
   "cell_type": "code",
   "execution_count": null,
   "id": "e7ea81d3-4b00-4d18-aeac-83a12e40ad74",
   "metadata": {},
   "outputs": [],
   "source": [
    "* is a expression , explains a multipication operator.\n",
    "'hello' is a sting value.\n",
    "- 87.8 is type of datatype , and it explains the float(negative) number.\n",
    "- is a expression and explains a subtraction operator.\n",
    "/ is a expression that explains a division operator.\n",
    "+ is a expression that explains a addition operator.\n",
    "6 is a integer value."
   ]
  },
  {
   "cell_type": "markdown",
   "id": "0593b96a-92cd-40cd-8119-658406078181",
   "metadata": {},
   "source": [
    "# 2. What is the difference between string and variable?"
   ]
  },
  {
   "cell_type": "markdown",
   "id": "8d30be50-9cae-40d8-a557-aac998c0bd66",
   "metadata": {},
   "source": [
    "A variable is a container or a name that stores a value in program.\n",
    "For example : name = \"Aryan\"\n",
    "\n",
    "A string is a sequence of characters that can be written in single quotes , double quotes , triple quotes.\n",
    "For example : \"Aryan\""
   ]
  },
  {
   "cell_type": "markdown",
   "id": "8dee545f-4fae-4b16-b8d6-a50379fcbf77",
   "metadata": {},
   "source": [
    "# 3. Describe three different data types."
   ]
  },
  {
   "cell_type": "markdown",
   "id": "c2df5864-2afa-46cd-a1bb-a31f6e801b3a",
   "metadata": {},
   "source": [
    "int =  integer is a whole number, that can be negative or positive.\n",
    "\n",
    "bool = boolean stores either true or false. It is used in condition or a decision.\n",
    "\n",
    "list = A collection of multiple values in one variable , written in a square bracket."
   ]
  },
  {
   "cell_type": "markdown",
   "id": "6253bdbf-029b-466f-ac15-5099aa029b91",
   "metadata": {},
   "source": [
    "# 4. What is an expression made up of? What do all expressions do?"
   ]
  },
  {
   "cell_type": "markdown",
   "id": "a76b665c-052b-48ef-8a5c-87dacf6df346",
   "metadata": {},
   "source": [
    "An expression is made of values, variables, and operators — and it always gives back a result.They are evaluated by Python to give some output or result."
   ]
  },
  {
   "cell_type": "markdown",
   "id": "84ff5843-a5ba-4350-b783-032b783d3eec",
   "metadata": {},
   "source": [
    "# 5. This assignment statements, like spam = 10. What is the difference between an expression and a statement?"
   ]
  },
  {
   "cell_type": "markdown",
   "id": "5ca9aed3-b284-46a6-a936-1f92418feb39",
   "metadata": {},
   "source": [
    "An expression is a piece of code that produces a value when evaluated.\n",
    "A statement is a complete instruction that the Python interpreter can execute.\n",
    "\n",
    "spam = 10\n",
    "10 is expression\n",
    "spam = 10 is a statement.\n"
   ]
  },
  {
   "cell_type": "markdown",
   "id": "1ca3623e-bdac-4ecd-b363-aab224ff0467",
   "metadata": {},
   "source": [
    "# 6. After running the following code, what does the variable bacon contain?\n",
    "bacon = 22\n",
    "bacon + 1"
   ]
  },
  {
   "cell_type": "code",
   "execution_count": 6,
   "id": "7e8996e8-3720-4213-96d4-215252542471",
   "metadata": {},
   "outputs": [
    {
     "name": "stdout",
     "output_type": "stream",
     "text": [
      "23\n"
     ]
    }
   ],
   "source": [
    "bacon = 22\n",
    "print(bacon + 1)"
   ]
  },
  {
   "cell_type": "markdown",
   "id": "1538bb2c-e836-4143-b073-03d5bf93a257",
   "metadata": {},
   "source": [
    "# 7. What should the values of the following two terms be?\n",
    "'spam' + 'spamspam'\n",
    "'spam' * 3"
   ]
  },
  {
   "cell_type": "code",
   "execution_count": 7,
   "id": "ceb2b92d-c3fe-445b-be66-ecc9c827b0dc",
   "metadata": {},
   "outputs": [
    {
     "data": {
      "text/plain": [
       "'spamspamspam'"
      ]
     },
     "execution_count": 7,
     "metadata": {},
     "output_type": "execute_result"
    }
   ],
   "source": [
    "'spam'+ 'spamspam'"
   ]
  },
  {
   "cell_type": "code",
   "execution_count": 8,
   "id": "584ff409-832c-4531-b24e-71e009ca519d",
   "metadata": {},
   "outputs": [
    {
     "data": {
      "text/plain": [
       "'spamspamspam'"
      ]
     },
     "execution_count": 8,
     "metadata": {},
     "output_type": "execute_result"
    }
   ],
   "source": [
    "'spam'*3"
   ]
  },
  {
   "cell_type": "markdown",
   "id": "7bfabe0e-b80b-47ae-8f70-93bba421e46f",
   "metadata": {},
   "source": [
    "# 8. Why is eggs a valid variable name while 100 is invalid?"
   ]
  },
  {
   "cell_type": "markdown",
   "id": "5c0a4eb7-ff68-46c6-a9b9-b0c94be17d4d",
   "metadata": {},
   "source": [
    "eggs is a variable and starts with a letter.\n",
    "\n",
    "100 is a number."
   ]
  },
  {
   "cell_type": "markdown",
   "id": "63b144ef-b35f-42de-bd75-1bc5ec8c2002",
   "metadata": {},
   "source": [
    "# 9. What three functions can be used to get the integer, floating-point number, or string version of a value?"
   ]
  },
  {
   "cell_type": "markdown",
   "id": "c768b227-6d9f-4858-9e34-ba4c7909445a",
   "metadata": {},
   "source": [
    "1. int(): Converts a value to an integer.\n",
    "ex - int(3.14) returns 3\n",
    "\n",
    "2. float(): Converts a value to a floating-point number.\n",
    "ex - float(10) returns 10.0\n",
    "\n",
    "3. str(): Converts a value to a string.\n",
    "ex - str(123) returns \"123\"\n",
    "\n"
   ]
  },
  {
   "cell_type": "markdown",
   "id": "9f93789a-8789-4bf8-a2e7-8e9a6c3cc1c7",
   "metadata": {},
   "source": [
    "# 10. Why does this expression cause an error? How can you fix it?\n",
    "'I have eaten' + 99 + 'burritos'"
   ]
  },
  {
   "cell_type": "markdown",
   "id": "0b6bef2c-048c-4700-a914-b777e4e4f7e0",
   "metadata": {},
   "source": [
    "'I have eaten' is an string \n",
    "99 is a integer\n",
    "'burritos' is an string\n",
    "\n",
    "Its an error because we are adding an integer between two string."
   ]
  },
  {
   "cell_type": "code",
   "execution_count": null,
   "id": "5e71ce9f-5c54-44b4-bf36-8d169a087116",
   "metadata": {},
   "outputs": [],
   "source": []
  }
 ],
 "metadata": {
  "kernelspec": {
   "display_name": "Python 3 (ipykernel)",
   "language": "python",
   "name": "python3"
  },
  "language_info": {
   "codemirror_mode": {
    "name": "ipython",
    "version": 3
   },
   "file_extension": ".py",
   "mimetype": "text/x-python",
   "name": "python",
   "nbconvert_exporter": "python",
   "pygments_lexer": "ipython3",
   "version": "3.12.7"
  }
 },
 "nbformat": 4,
 "nbformat_minor": 5
}
